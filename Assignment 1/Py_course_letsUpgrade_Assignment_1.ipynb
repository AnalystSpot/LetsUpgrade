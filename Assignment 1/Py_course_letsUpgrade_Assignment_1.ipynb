{
 "cells": [
  {
   "cell_type": "markdown",
   "id": "42569d02",
   "metadata": {},
   "source": [
    "# B. M. Suhaib\n",
    "###  Find Simple Interest(si) for a given Principle(p), time(t) and rate of interest(r)\n",
    "    simple_interest=(p*t*r)/100"
   ]
  },
  {
   "cell_type": "code",
   "execution_count": 1,
   "id": "adf51dd1",
   "metadata": {},
   "outputs": [
    {
     "name": "stdout",
     "output_type": "stream",
     "text": [
      "Enter Principle:10000\n",
      "Time:2\n",
      "Rate of interest:3\n",
      "Simple Interest : 600.0\n"
     ]
    }
   ],
   "source": [
    "p=int(input('Enter Principle:'))\n",
    "t=int(input('Time:'))\n",
    "r=int(input('Rate of interest:'))\n",
    "si=(p*t*r)/100\n",
    "print(\"Simple Interest : {}\".format(si))"
   ]
  }
 ],
 "metadata": {
  "kernelspec": {
   "display_name": "Python 3",
   "language": "python",
   "name": "python3"
  },
  "language_info": {
   "codemirror_mode": {
    "name": "ipython",
    "version": 3
   },
   "file_extension": ".py",
   "mimetype": "text/x-python",
   "name": "python",
   "nbconvert_exporter": "python",
   "pygments_lexer": "ipython3",
   "version": "3.8.8"
  }
 },
 "nbformat": 4,
 "nbformat_minor": 5
}
